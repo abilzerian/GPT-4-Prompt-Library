{
 "cells": [
  {
   "cell_type": "code",
   "execution_count": 1,
   "id": "initial_id",
   "metadata": {
    "collapsed": true,
    "ExecuteTime": {
     "end_time": "2024-05-20T05:47:55.949694Z",
     "start_time": "2024-05-20T05:47:55.866408Z"
    }
   },
   "outputs": [],
   "source": [
    "import os\n",
    "from format_conversions.converters import FileReaderFactory, process_markdown, FileWriter"
   ]
  },
  {
   "cell_type": "code",
   "execution_count": 2,
   "outputs": [],
   "source": [
    "FILEPATH = os.path.join(\n",
    "    \"..\", \"Miscellaneous\", \"ChatAGI.md\"\n",
    ")\n",
    "\n",
    "file_reader = FileReaderFactory(FILEPATH).create()"
   ],
   "metadata": {
    "collapsed": false,
    "ExecuteTime": {
     "end_time": "2024-05-20T05:47:57.388961Z",
     "start_time": "2024-05-20T05:47:57.384086Z"
    }
   },
   "id": "53b3e4b685edecbf"
  },
  {
   "cell_type": "code",
   "execution_count": 3,
   "outputs": [],
   "source": [
    "title, content = process_markdown(file_reader.data)"
   ],
   "metadata": {
    "collapsed": false,
    "ExecuteTime": {
     "end_time": "2024-05-20T05:47:57.941200Z",
     "start_time": "2024-05-20T05:47:57.938106Z"
    }
   },
   "id": "fb0ab1ad44f3e629"
  },
  {
   "cell_type": "code",
   "execution_count": 4,
   "outputs": [],
   "source": [
    "metadata = {\"title\": title}"
   ],
   "metadata": {
    "collapsed": false,
    "ExecuteTime": {
     "end_time": "2024-05-20T05:47:58.322071Z",
     "start_time": "2024-05-20T05:47:58.320549Z"
    }
   },
   "id": "10770de681496d7d"
  },
  {
   "cell_type": "code",
   "execution_count": 5,
   "outputs": [],
   "source": [
    "output = file_reader.process(data=metadata, content=content)"
   ],
   "metadata": {
    "collapsed": false,
    "ExecuteTime": {
     "end_time": "2024-05-20T05:47:58.791115Z",
     "start_time": "2024-05-20T05:47:58.789864Z"
    }
   },
   "id": "2555ba6766d332d1"
  },
  {
   "cell_type": "code",
   "execution_count": 6,
   "outputs": [],
   "source": [
    "OUT_FILENAME = os.path.basename(FILEPATH).split('.')[0]\n",
    "OUT_BASEPATH = os.path.dirname(FILEPATH)\n",
    "OUT_FILEPATH = os.path.join(OUT_BASEPATH, f\"{OUT_FILENAME}_processed.json\")"
   ],
   "metadata": {
    "collapsed": false,
    "ExecuteTime": {
     "end_time": "2024-05-20T05:47:59.285492Z",
     "start_time": "2024-05-20T05:47:59.280162Z"
    }
   },
   "id": "2535d538ba2d8f90"
  },
  {
   "cell_type": "code",
   "execution_count": 7,
   "outputs": [],
   "source": [
    "file_writer = FileWriter(data=output, file_path=OUT_FILEPATH)"
   ],
   "metadata": {
    "collapsed": false,
    "ExecuteTime": {
     "end_time": "2024-05-20T05:48:00.698340Z",
     "start_time": "2024-05-20T05:48:00.695485Z"
    }
   },
   "id": "7ad03f9738382748"
  },
  {
   "cell_type": "code",
   "execution_count": 8,
   "outputs": [],
   "source": [
    "file_writer.write()"
   ],
   "metadata": {
    "collapsed": false,
    "ExecuteTime": {
     "end_time": "2024-05-20T05:48:02.032022Z",
     "start_time": "2024-05-20T05:48:02.029566Z"
    }
   },
   "id": "c6958c29b68fef82"
  },
  {
   "cell_type": "code",
   "execution_count": null,
   "outputs": [],
   "source": [],
   "metadata": {
    "collapsed": false
   },
   "id": "a1233152f69a7114"
  }
 ],
 "metadata": {
  "kernelspec": {
   "display_name": "Python 3",
   "language": "python",
   "name": "python3"
  },
  "language_info": {
   "codemirror_mode": {
    "name": "ipython",
    "version": 2
   },
   "file_extension": ".py",
   "mimetype": "text/x-python",
   "name": "python",
   "nbconvert_exporter": "python",
   "pygments_lexer": "ipython2",
   "version": "2.7.6"
  }
 },
 "nbformat": 4,
 "nbformat_minor": 5
}
