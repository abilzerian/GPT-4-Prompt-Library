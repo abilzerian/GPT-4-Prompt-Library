{
 "cells": [
  {
   "cell_type": "code",
   "execution_count": 1,
   "id": "initial_id",
   "metadata": {
    "collapsed": true,
    "ExecuteTime": {
     "end_time": "2024-05-20T05:47:55.949694Z",
     "start_time": "2024-05-20T05:47:55.866408Z"
    }
   },
   "outputs": [],
   "source": [
    "import os\n",
    "from format_conversions.converters import FileReaderFactory, process_markdown, FileWriter"
   ]
  },
  {
   "cell_type": "code",
   "execution_count": 2,
   "outputs": [],
   "source": [
    "FILEPATH = os.path.join(\n",
    "    \"..\", \"Miscellaneous\", \"ChatAGI.md\"\n",
    ")\n",
    "\n",
    "file_reader = FileReaderFactory(FILEPATH).create()"
   ],
   "metadata": {
    "collapsed": false,
    "ExecuteTime": {
     "end_time": "2024-05-20T05:47:57.388961Z",
     "start_time": "2024-05-20T05:47:57.384086Z"
    }
   },
   "id": "53b3e4b685edecbf"
  },
  {
   "cell_type": "code",
   "execution_count": 3,
   "outputs": [],
   "source": [
    "title, content = process_markdown(file_reader.data)"
   ],
   "metadata": {
    "collapsed": false,
    "ExecuteTime": {
     "end_time": "2024-05-20T05:47:57.941200Z",
     "start_time": "2024-05-20T05:47:57.938106Z"
    }
   },
   "id": "fb0ab1ad44f3e629"
  },
  {
   "cell_type": "code",
   "execution_count": 4,
   "outputs": [],
   "source": [
    "metadata = {\"title\": title}"
   ],
   "metadata": {
    "collapsed": false,
    "ExecuteTime": {
     "end_time": "2024-05-20T05:47:58.322071Z",
     "start_time": "2024-05-20T05:47:58.320549Z"
    }
   },
   "id": "10770de681496d7d"
  },
  {
   "cell_type": "code",
   "execution_count": 5,
   "outputs": [],
   "source": [
    "output = file_reader.process(data=metadata, content=content)"
   ],
   "metadata": {
    "collapsed": false,
    "ExecuteTime": {
     "end_time": "2024-05-20T05:47:58.791115Z",
     "start_time": "2024-05-20T05:47:58.789864Z"
    }
   },
   "id": "2555ba6766d332d1"
  },
  {
   "cell_type": "code",
   "execution_count": 6,
   "outputs": [],
   "source": [
    "OUT_FILENAME = os.path.basename(FILEPATH).split('.')[0]\n",
    "OUT_BASEPATH = os.path.dirname(FILEPATH)\n",
    "OUT_FILEPATH = os.path.join(OUT_BASEPATH, f\"{OUT_FILENAME}_processed.json\")"
   ],
   "metadata": {
    "collapsed": false,
    "ExecuteTime": {
     "end_time": "2024-05-20T05:47:59.285492Z",
     "start_time": "2024-05-20T05:47:59.280162Z"
    }
   },
   "id": "2535d538ba2d8f90"
  },
  {
   "cell_type": "code",
   "execution_count": 7,
   "outputs": [],
   "source": [
    "file_writer = FileWriter(data=output, file_path=OUT_FILEPATH)"
   ],
   "metadata": {
    "collapsed": false,
    "ExecuteTime": {
     "end_time": "2024-05-20T05:48:00.698340Z",
     "start_time": "2024-05-20T05:48:00.695485Z"
    }
   },
   "id": "7ad03f9738382748"
  },
  {
   "cell_type": "code",
   "execution_count": 8,
   "outputs": [],
   "source": [
    "file_writer.write()"
   ],
   "metadata": {
    "collapsed": false,
    "ExecuteTime": {
     "end_time": "2024-05-20T05:48:02.032022Z",
     "start_time": "2024-05-20T05:48:02.029566Z"
    }
   },
   "id": "c6958c29b68fef82"
  },
  {
   "cell_type": "code",
   "execution_count": 12,
   "outputs": [],
   "source": [
    "def rename_files(root_dir, exclude_dirs, exclude_files):\n",
    "    for root, dirs, files in os.walk(root_dir):\n",
    "        print(dirs)\n",
    "        if dirs in exclude_dirs:\n",
    "            print(dirs)\n",
    "        # for file in files:\n",
    "        #     old_file_path = os.path.join(root, file)\n",
    "        #     new_file_name = file.replace(' ', '_')\n",
    "        #     new_file_path = os.path.join(root, new_file_name)\n",
    "        #     os.rename(old_file_path, new_file_path)"
   ],
   "metadata": {
    "collapsed": false,
    "ExecuteTime": {
     "end_time": "2024-05-22T05:27:06.962912Z",
     "start_time": "2024-05-22T05:27:06.960371Z"
    }
   },
   "id": "a1233152f69a7114"
  },
  {
   "cell_type": "code",
   "execution_count": 14,
   "outputs": [],
   "source": [
    "EXCLUDE_DIRS = [\"processed_prompts\", \"venv\"]\n",
    "EXCLUDE_FILES = []\n",
    "\n",
    "# rename_files(\"..\", exclude_dirs=EXCLUDE_DIRS, exclude_files=EXCLUDE_FILES)"
   ],
   "metadata": {
    "collapsed": false,
    "ExecuteTime": {
     "end_time": "2024-05-22T05:30:52.303529Z",
     "start_time": "2024-05-22T05:30:52.302411Z"
    }
   },
   "id": "6efea0b25d54ec0"
  },
  {
   "cell_type": "code",
   "execution_count": 15,
   "outputs": [],
   "source": [
    "subdirectories = [os.path.join('..', d) for d in os.listdir('..') if os.path.isdir(os.path.join('..', d))]\n"
   ],
   "metadata": {
    "collapsed": false,
    "ExecuteTime": {
     "end_time": "2024-05-22T05:31:09.190197Z",
     "start_time": "2024-05-22T05:31:09.179662Z"
    }
   },
   "id": "531f5f0f20e45f32"
  },
  {
   "cell_type": "code",
   "execution_count": 17,
   "outputs": [
    {
     "ename": "NameError",
     "evalue": "name '__file__' is not defined",
     "output_type": "error",
     "traceback": [
      "\u001B[0;31m---------------------------------------------------------------------------\u001B[0m",
      "\u001B[0;31mNameError\u001B[0m                                 Traceback (most recent call last)",
      "Cell \u001B[0;32mIn[17], line 26\u001B[0m\n\u001B[1;32m     23\u001B[0m                 \u001B[38;5;28mprint\u001B[39m(\u001B[38;5;124mf\u001B[39m\u001B[38;5;124m\"\u001B[39m\u001B[38;5;124mRenamed: \u001B[39m\u001B[38;5;132;01m{\u001B[39;00mfile_path\u001B[38;5;132;01m}\u001B[39;00m\u001B[38;5;124m -> \u001B[39m\u001B[38;5;132;01m{\u001B[39;00mnew_file_path\u001B[38;5;132;01m}\u001B[39;00m\u001B[38;5;124m\"\u001B[39m)\n\u001B[1;32m     25\u001B[0m \u001B[38;5;66;03m# Get the root directory as one level above the script's location\u001B[39;00m\n\u001B[0;32m---> 26\u001B[0m script_directory \u001B[38;5;241m=\u001B[39m os\u001B[38;5;241m.\u001B[39mpath\u001B[38;5;241m.\u001B[39mdirname(os\u001B[38;5;241m.\u001B[39mpath\u001B[38;5;241m.\u001B[39mabspath(\u001B[38;5;18;43m__file__\u001B[39;49m))\n\u001B[1;32m     27\u001B[0m root_directory \u001B[38;5;241m=\u001B[39m os\u001B[38;5;241m.\u001B[39mpath\u001B[38;5;241m.\u001B[39mabspath(os\u001B[38;5;241m.\u001B[39mpath\u001B[38;5;241m.\u001B[39mjoin(script_directory, \u001B[38;5;124m'\u001B[39m\u001B[38;5;124m..\u001B[39m\u001B[38;5;124m'\u001B[39m))\n\u001B[1;32m     29\u001B[0m \u001B[38;5;66;03m# Specify directories to exclude\u001B[39;00m\n",
      "\u001B[0;31mNameError\u001B[0m: name '__file__' is not defined"
     ]
    }
   ],
   "source": [
    "def rename_files_in_subdirectories(root_directory, exclude_dirs=None):\n",
    "    if exclude_dirs is None:\n",
    "        exclude_dirs = []\n",
    "\n",
    "    # List all directories one level down from the root, excluding hidden and specified directories\n",
    "    subdirectories = [\n",
    "        os.path.join(root_directory, d)\n",
    "        for d in os.listdir(root_directory)\n",
    "        if os.path.isdir(os.path.join(root_directory, d)) and\n",
    "           not d.startswith('.') and\n",
    "           d not in exclude_dirs\n",
    "    ]\n",
    "\n",
    "    for subdirectory in subdirectories:\n",
    "        for filename in os.listdir(subdirectory):\n",
    "            file_path = os.path.join(subdirectory, filename)\n",
    "            if os.path.isfile(file_path):\n",
    "                # Replace spaces with dashes in the filename\n",
    "                new_filename = filename.replace(' ', '-')\n",
    "                new_file_path = os.path.join(subdirectory, new_filename)\n",
    "                # Rename the file\n",
    "                os.rename(file_path, new_file_path)\n",
    "                print(f\"Renamed: {file_path} -> {new_file_path}\")\n",
    "\n",
    "# Get the root directory as one level above the script's location\n",
    "script_directory = os.path.dirname(os.path.abspath(__file__))\n",
    "root_directory = os.path.abspath(os.path.join(script_directory, '..'))\n",
    "\n",
    "# Specify directories to exclude\n",
    "exclude_dirs = ['dir_to_exclude1', 'dir_to_exclude2']\n",
    "\n",
    "rename_files_in_subdirectories(root_directory, exclude_dirs)\n"
   ],
   "metadata": {
    "collapsed": false,
    "ExecuteTime": {
     "end_time": "2024-05-22T05:32:22.867798Z",
     "start_time": "2024-05-22T05:32:22.744168Z"
    }
   },
   "id": "ebc899e276e65910"
  },
  {
   "cell_type": "code",
   "execution_count": null,
   "outputs": [],
   "source": [],
   "metadata": {
    "collapsed": false
   },
   "id": "e8587cfb890debb8"
  }
 ],
 "metadata": {
  "kernelspec": {
   "display_name": "Python 3",
   "language": "python",
   "name": "python3"
  },
  "language_info": {
   "codemirror_mode": {
    "name": "ipython",
    "version": 2
   },
   "file_extension": ".py",
   "mimetype": "text/x-python",
   "name": "python",
   "nbconvert_exporter": "python",
   "pygments_lexer": "ipython2",
   "version": "2.7.6"
  }
 },
 "nbformat": 4,
 "nbformat_minor": 5
}
