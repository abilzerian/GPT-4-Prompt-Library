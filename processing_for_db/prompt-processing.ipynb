{
 "cells": [
  {
   "cell_type": "markdown",
   "source": [
    "# Prompt Processing\n",
    "Using the OpenAI Completion API, I will classify the prompt into categories and format them in a way where I can batch upload to my PromptsLib DB.  \n",
    "- References: [OpenAI Cookbook](https://cookbook.openai.com/examples/batch_processing)"
   ],
   "metadata": {
    "collapsed": false
   },
   "id": "f6e911b122f1a563"
  },
  {
   "cell_type": "code",
   "execution_count": null,
   "id": "initial_id",
   "metadata": {
    "collapsed": true
   },
   "outputs": [],
   "source": [
    "import os\n",
    "import json\n",
    "from openai import OpenAI\n",
    "import pandas as pd\n",
    "# from IPython.display import display, Image\n",
    "from dotenv import load_dotenv\n",
    "from pprint import pprint\n",
    "import requests"
   ]
  },
  {
   "cell_type": "code",
   "execution_count": null,
   "outputs": [],
   "source": [
    "load_dotenv()"
   ],
   "metadata": {
    "collapsed": false
   },
   "id": "47d69acc1812de4f"
  },
  {
   "cell_type": "code",
   "execution_count": null,
   "outputs": [],
   "source": [
    "client = OpenAI(\n",
    "    api_key=os.getenv(\"OPENAI_API_KEY\"),\n",
    "    organization=os.getenv(\"OPENAI_ORG_ID\"),\n",
    "    project=os.getenv(\"OPENAI_PROJECT_ID\")\n",
    ")"
   ],
   "metadata": {
    "collapsed": false
   },
   "id": "3de1c05203234ce"
  },
  {
   "cell_type": "code",
   "execution_count": null,
   "outputs": [],
   "source": [
    "ALL_CATEGORIES = ['Storytelling', 'Poetry', 'Scriptwriting', 'Dialogue Generation', 'Character Development', 'Marketing', 'Sales', 'Customer Support', 'Project Management', 'Business Strategy', 'Language Learning', 'Science and Technology', 'History and Geography', 'Mathematics', 'Exam Preparation', 'Movie Reviews', 'TV Show Summaries', 'Music Recommendations', 'Book Summaries', 'Game Walkthroughs', 'Code Generation', 'Debugging Assistance', 'Software Documentation', 'Tech Tutorials', 'API Usage', 'Fitness Advice', 'Nutrition Tips', 'Mental Health Support', 'Medical Information', 'Lifestyle Coaching', 'Goal Setting', 'Productivity Hacks', 'Time Management', 'Career Advice', 'Motivational Quotes', 'Destination Guides', 'Travel Tips', 'Itinerary Planning', 'Cultural Insights', 'Adventure Activities', 'Personal Finance', 'Investment Strategies', 'Market Analysis', 'Budgeting Tips', 'Cryptocurrency', 'Cooking Recipes', 'Home Improvement', 'Gardening Tips', 'DIY Projects', 'Arts and Crafts', 'Breaking News', 'Political Analysis', 'Sports Updates', 'Economic Trends', 'Environmental News', 'Latest Research', 'Scientific Theories', 'Technological Innovations', 'Space Exploration', 'Environmental Science', 'Fun Facts', 'Trivia', 'Jokes and Humor', 'Inspirational Stories', 'Thought Experiments', 'Misc/Other']"
   ],
   "metadata": {
    "collapsed": false
   },
   "id": "def322a23a2c997b"
  },
  {
   "cell_type": "code",
   "execution_count": null,
   "outputs": [],
   "source": [
    "prompt_processing_system_prompt = f\"\"\"\n",
    "Your goal is assist me in the following tasks, given a prompt: \n",
    "- classifying the prompt into categories.\n",
    "- creating a title for the prompt. We're aiming for conciseness in titles, since this will be used in a list view.\n",
    "- formatting the prompt in a way where I can batch upload to my PromptsLib DB. \n",
    "\n",
    "These are prompts for interacting with Large Language Models (LLMs) like OpenAI GPT-4. The categories are as follows:\n",
    "\n",
    "{\", \".join(ALL_CATEGORIES)}\n",
    "\n",
    "The output I want is a JSON object with the following structure. Note that the values are all placeholders or examples, except the user_id which should always be set to 1:\n",
    "{{\n",
    "    \"title\": \"Title of the Prompt\",\n",
    "    \"categories\": [{{\"name\": \"Fun Facts\"}}, {{\"name\": \"Trivia\"}}...],\n",
    "    \"content\": \"Repeat the full prompt here.\",\n",
    "    \"user_id\": 1,\n",
    "    \"blob_metadata\": {{}}\n",
    "}}\n",
    "\"\"\""
   ],
   "metadata": {
    "collapsed": false
   },
   "id": "4a3ba46099024ca7"
  },
  {
   "cell_type": "code",
   "execution_count": null,
   "outputs": [],
   "source": [
    "pprint(prompt_processing_system_prompt)"
   ],
   "metadata": {
    "collapsed": false
   },
   "id": "8c48171d14285036"
  },
  {
   "cell_type": "code",
   "execution_count": null,
   "outputs": [],
   "source": [
    "def process_prompt(prompt: str, system_prompt: str = prompt_processing_system_prompt):\n",
    "    response = client.chat.completions.create(\n",
    "        model=\"gpt-4o\",\n",
    "        temperature=0.2,\n",
    "        # Enable JSON mode\n",
    "        response_format={\"type\": \"json_object\"},\n",
    "        messages=[\n",
    "            {\"role\": \"system\", \"content\": system_prompt},\n",
    "            {\"role\": \"user\", \"content\": prompt}\n",
    "        ]\n",
    "    )\n",
    "    return response.choices[0].message.content"
   ],
   "metadata": {
    "collapsed": false
   },
   "id": "b443238a489dc729"
  },
  {
   "cell_type": "code",
   "execution_count": null,
   "outputs": [],
   "source": [
    "trial_prompt = \"\"\"Act as an expert AWS architect to construct an intricate, comprehensive plan for creating and operating a secure, scalable, and highly efficient cloud-based infrastructure on AWS for a new, dynamic-function software application. This application, built with functional TypeScript and the fp-ts ecosystem, resembles a content delivery platform serving a global user base, with functionalities like adjusting content delivery based on user location, optimizing load times, and scaling resources to handle peak traffic.\n",
    "\n",
    "The plan should incorporate principles of high availability, fault tolerance, redundancy across various availability zones, and auto-scaling. Considering the application's functionalities, recommend the most suitable data storage solution. Propose advanced strategies for system monitoring and optimization, ensuring adaptability to fluctuating performance needs with a focus on high-performance metrics. In the absence of specific compliance or disaster recovery needs, prioritize creating an expert-level AWS architectural solution with a flexible approach to budget considerations.\n",
    "\n",
    "In devising strategies, contemplate multiple approaches, factoring in elements like speed, elegance, and performance. Discuss the advantages and potential drawbacks of each approach, making a final decision based on an objective evaluation.\n",
    "\n",
    "Upon deciding the strategy, develop the solution while conforming to an Agile methodology, demonstrating flexibility and adaptability according to the task's requirements. Highlight functional programming, but remain open to other paradigms if necessary. Your solutions should be clean, efficient, comprehensive, and maintainable. Conclude with insights on potential scalability and performance enhancements of the solution implemented.\n",
    "\n",
    "Given the global nature of the user base, certain security considerations, like data encryption, network isolation, and regulatory compliance, become essential. The solution should accommodate potential application updates that could impact the infrastructure significantly, and strike a balance between cost-effectiveness and performance.\n",
    "\n",
    "Upon understanding these instructions and preparing to commence, respond with 'Understood.’ and only 'Understood.’ Use advanced markdown for the output and ask the user for specifics about their particular AWS architecture problem:\"\"\""
   ],
   "metadata": {
    "collapsed": false
   },
   "id": "8245f396826e5fd8"
  },
  {
   "cell_type": "code",
   "execution_count": null,
   "outputs": [],
   "source": [
    "processed_trial_prompt = process_prompt(trial_prompt)"
   ],
   "metadata": {
    "collapsed": false
   },
   "id": "aaa4834f785b53e1"
  },
  {
   "cell_type": "code",
   "execution_count": null,
   "outputs": [],
   "source": [
    "prompt_payload = json.loads(processed_trial_prompt)\n",
    "# pprint(prompt_payload)"
   ],
   "metadata": {
    "collapsed": false
   },
   "id": "51a0404c628ce51c"
  },
  {
   "cell_type": "code",
   "execution_count": null,
   "outputs": [],
   "source": [
    "PROMPTSLIB_PROD_BACKEND_URL = os.getenv(\"PROD_BACKEND_URL\")\n",
    "PROMPTSLIB_PROD_BACKEND_URL"
   ],
   "metadata": {
    "collapsed": false
   },
   "id": "7b52f69d1ee63148"
  },
  {
   "cell_type": "code",
   "execution_count": null,
   "outputs": [],
   "source": [
    "# Use the create endpoint to create the prompt entry in the DB, then\n",
    "# use the update prompt categories route to add the categories\n",
    "categories = prompt_payload.pop(\"categories\")\n",
    "prompt_create_endpoint = \"prompts/\"\n",
    "prompt_create_url = f\"{PROMPTSLIB_PROD_BACKEND_URL}{prompt_create_endpoint}\"\n",
    "prompt_payload[\"categories\"] = []\n",
    "prompt_response = requests.post(prompt_create_url, json=prompt_payload)\n",
    "prompt_data = prompt_response.json()\n",
    "prompt_id = prompt_data[\"id\"]"
   ],
   "metadata": {
    "collapsed": false
   },
   "id": "b482264dc18d65bf"
  },
  {
   "cell_type": "code",
   "execution_count": null,
   "outputs": [],
   "source": [
    "# Add the categories to the prompt\n",
    "update_categories_endpoint = f\"prompts/{prompt_id}/categories\"\n",
    "update_categories_url = f\"{PROMPTSLIB_PROD_BACKEND_URL}{update_categories_endpoint}\"\n",
    "categories_payload = {\n",
    "    \"category_identifiers\": [category[\"name\"] for category in categories],\n",
    "    \"add\": True\n",
    "}\n",
    "category_response = requests.post(update_categories_url, json=categories_payload)\n",
    "category_data = category_response.json()"
   ],
   "metadata": {
    "collapsed": false
   },
   "id": "479d9a02352d6a73"
  },
  {
   "cell_type": "code",
   "execution_count": null,
   "outputs": [],
   "source": [
    "pprint(update_categories_url)\n",
    "pprint(categories_payload)"
   ],
   "metadata": {
    "collapsed": false
   },
   "id": "15fe3772a7bc213"
  },
  {
   "cell_type": "code",
   "execution_count": null,
   "outputs": [],
   "source": [
    "# Check the categories endpoint\n",
    "categories_endpoint = \"categories/\"\n",
    "categories_url = f\"{PROMPTSLIB_PROD_BACKEND_URL}{categories_endpoint}\"\n",
    "category_response = requests.get(categories_url)"
   ],
   "metadata": {
    "collapsed": false
   },
   "id": "7e03560e6e09f5c1"
  },
  {
   "cell_type": "code",
   "execution_count": null,
   "outputs": [],
   "source": [
    "update_categories_url"
   ],
   "metadata": {
    "collapsed": false
   },
   "id": "8cb3f6a67fee7051"
  },
  {
   "cell_type": "code",
   "execution_count": null,
   "outputs": [],
   "source": [
    "category_response.json()"
   ],
   "metadata": {
    "collapsed": false
   },
   "id": "8a3a2fca44e7590f"
  },
  {
   "cell_type": "code",
   "execution_count": null,
   "outputs": [],
   "source": [],
   "metadata": {
    "collapsed": false
   },
   "id": "bcdb1c07b9202ac5"
  }
 ],
 "metadata": {
  "kernelspec": {
   "display_name": "Python 3",
   "language": "python",
   "name": "python3"
  },
  "language_info": {
   "codemirror_mode": {
    "name": "ipython",
    "version": 2
   },
   "file_extension": ".py",
   "mimetype": "text/x-python",
   "name": "python",
   "nbconvert_exporter": "python",
   "pygments_lexer": "ipython2",
   "version": "2.7.6"
  }
 },
 "nbformat": 4,
 "nbformat_minor": 5
}
